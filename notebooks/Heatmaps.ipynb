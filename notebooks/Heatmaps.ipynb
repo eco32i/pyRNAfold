{
 "cells": [
  {
   "cell_type": "code",
   "execution_count": null,
   "metadata": {
    "collapsed": true
   },
   "outputs": [],
   "source": [
    "%matplotlib inline"
   ]
  },
  {
   "cell_type": "code",
   "execution_count": null,
   "metadata": {
    "collapsed": true
   },
   "outputs": [],
   "source": [
    "import os\n",
    "import sys\n",
    "\n",
    "from bokeh.plotting import *\n",
    "\n",
    "pyrnafold_path = os.path.abspath(os.path.join('..'))\n",
    "if pyrnafold_path not in sys.path:\n",
    "    sys.path.append(pyrnafold_path)\n",
    "    \n",
    "from pyrnafold.pyrnafold import trange_df\n",
    "from pyrnafold.parse import parse_fasta\n",
    "from pyrnafold.plotting import heatmap_T_range, sequence_heatmap"
   ]
  },
  {
   "cell_type": "code",
   "execution_count": null,
   "metadata": {},
   "outputs": [],
   "source": [
    "output_notebook()"
   ]
  },
  {
   "cell_type": "code",
   "execution_count": null,
   "metadata": {
    "scrolled": true
   },
   "outputs": [],
   "source": [
    "df = trange_df('../data/hHSR', trange=range(35,45))\n",
    "\n",
    "fasta = parse_fasta('../data/hHSR.fa')\n",
    "for rec in fasta:\n",
    "    id, seq = rec\n",
    "    \n",
    "df['seq'] = [seq[x-1] for x in df['pos']]\n",
    "df"
   ]
  },
  {
   "cell_type": "code",
   "execution_count": null,
   "metadata": {},
   "outputs": [],
   "source": [
    "temps = set(df['Temp'])\n",
    "heatmap_T_range(df, temps, title='Human HSR1')"
   ]
  },
  {
   "cell_type": "code",
   "execution_count": null,
   "metadata": {},
   "outputs": [],
   "source": [
    "sequence_heatmap(df, temp=42)"
   ]
  },
  {
   "cell_type": "code",
   "execution_count": null,
   "metadata": {
    "collapsed": true
   },
   "outputs": [],
   "source": []
  }
 ],
 "metadata": {
  "kernelspec": {
   "display_name": "Python 3",
   "language": "python",
   "name": "python3"
  },
  "language_info": {
   "codemirror_mode": {
    "name": "ipython",
    "version": 3
   },
   "file_extension": ".py",
   "mimetype": "text/x-python",
   "name": "python",
   "nbconvert_exporter": "python",
   "pygments_lexer": "ipython3",
   "version": "3.5.2"
  },
  "widgets": {
   "state": {},
   "version": "1.1.1"
  }
 },
 "nbformat": 4,
 "nbformat_minor": 1
}
