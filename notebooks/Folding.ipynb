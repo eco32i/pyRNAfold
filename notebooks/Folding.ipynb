{
 "cells": [
  {
   "cell_type": "markdown",
   "metadata": {},
   "source": [
    "## We start with a `fasta` file for our RNA"
   ]
  },
  {
   "cell_type": "code",
   "execution_count": 1,
   "metadata": {},
   "outputs": [
    {
     "name": "stdout",
     "output_type": "stream",
     "text": [
      "total 16K\r\n",
      "drwxrwxr-x 2 ilya ilya 4.0K Apr 18 12:46 \u001b[0m\u001b[01;34m.\u001b[0m/\r\n",
      "drwxrwxr-x 8 ilya ilya 4.0K Apr 18 12:55 \u001b[01;34m..\u001b[0m/\r\n",
      "-rw-rw-r-- 1 ilya ilya  611 Apr 18 12:45 hHSR.fa\r\n",
      "-rw-rw-r-- 1 ilya ilya  126 Apr 18 12:46 rose.fa\r\n"
     ]
    }
   ],
   "source": [
    "ls -lah ../data/"
   ]
  },
  {
   "cell_type": "code",
   "execution_count": 2,
   "metadata": {},
   "outputs": [
    {
     "name": "stdout",
     "output_type": "stream",
     "text": [
      ">ROSE1\r\n",
      "GCCGCCGAGAGGUGGCGUCCCCGACGCCUCAUGGGUCGGGAACGACUGAGACGGGCACCG\r\n",
      "GUCGUGUCCGGUGCCGCUCGUAUCCAUUUUGCUCCUUGGAGGAUUUGGCUAUGCGCA\r\n"
     ]
    }
   ],
   "source": [
    "!head ../data/rose.fa"
   ]
  },
  {
   "cell_type": "markdown",
   "metadata": {},
   "source": [
    "## Folding using `RNAfold` from Vienna suite\n",
    "\n",
    "`RNAfold` perfomrs MFE folding at the given temperature (`-T` option) and outputs top three structures in the bracket notation It also creates a `.ps` file with the drawing of the top structure."
   ]
  },
  {
   "cell_type": "code",
   "execution_count": 3,
   "metadata": {},
   "outputs": [
    {
     "name": "stdout",
     "output_type": "stream",
     "text": [
      ">ROSE1\n",
      "GCCGCCGAGAGGUGGCGUCCCCGACGCCUCAUGGGUCGGGAACGACUGAGACGGGCACCGGUCGUGUCCGGUGCCGCUCGUAUCCAUUUUGCUCCUUGGAGGAUUUGGCUAUGCGCA\n",
      "((((((....))))))(((((((((.((....))))))))...))).......((((((((......))))))))((.((((.(((..((.(((....)))))..))).)))).)). (-57.30)\n",
      "((((((....))))))(({((((((.((....)))))))).,,}}}.......((((((((......))))))))((.((((.(((..({.(((....)))})..))).)))).)). [-58.22]\n",
      "((((((....))))))(((((((((.((....))))))))...))).......((((((((......))))))))((.((((.(((..((.(((....)))))..))).)))).)). {-57.30 d=5.20}\n",
      " frequency of mfe structure in ensemble 0.225946; ensemble diversity 7.63  \n",
      "/home/ilya/src/pyRNAfold/notebooks\n"
     ]
    }
   ],
   "source": [
    "%%bash\n",
    "\n",
    "cd ../data/\n",
    "RNAfold -p -d2 --noPS --noLP -T 37 < rose.fa\n",
    "cd -"
   ]
  },
  {
   "cell_type": "code",
   "execution_count": 4,
   "metadata": {},
   "outputs": [
    {
     "name": "stdout",
     "output_type": "stream",
     "text": [
      "total 36K\r\n",
      "drwxrwxr-x 2 ilya ilya 4.0K Apr 18 12:58 \u001b[0m\u001b[01;34m.\u001b[0m/\r\n",
      "drwxrwxr-x 8 ilya ilya 4.0K Apr 18 12:55 \u001b[01;34m..\u001b[0m/\r\n",
      "-rw-rw-r-- 1 ilya ilya  611 Apr 18 12:45 hHSR.fa\r\n",
      "-rw-rw-r-- 1 ilya ilya  19K Apr 18 12:58 ROSE1_dp.ps\r\n",
      "-rw-rw-r-- 1 ilya ilya  126 Apr 18 12:46 rose.fa\r\n"
     ]
    }
   ],
   "source": [
    "ls -lah ../data/"
   ]
  },
  {
   "cell_type": "markdown",
   "metadata": {},
   "source": [
    "This is a regular `postscript` file"
   ]
  },
  {
   "cell_type": "code",
   "execution_count": 5,
   "metadata": {},
   "outputs": [
    {
     "name": "stdout",
     "output_type": "stream",
     "text": [
      "%!PS-Adobe-3.0 EPSF-3.0\r\n",
      "%%Title: RNA Dot Plot\r\n",
      "%%Creator: ViennaRNA-2.3.4\r\n",
      "%%CreationDate: Tue Apr 18 12:58:38 2017\r\n",
      "%%BoundingBox: 0 0 700 720\r\n",
      "%%DocumentFonts: Helvetica\r\n",
      "%%Pages: 1\r\n",
      "%%EndComments\r\n",
      "\r\n",
      "%Options: --noLP \r\n",
      "%This file contains the square roots of the base pair probabilities in the form\r\n",
      "% i  j  sqrt(p(i,j)) ubox\r\n",
      "\r\n",
      "%%BeginProlog\r\n",
      "/DPdict 100 dict def\r\n",
      "DPdict begin\r\n",
      "/logscale false def\r\n",
      "/lpmin 1e-05 log def\r\n",
      "\r\n",
      "/DataVisible  [ true true true true] def\r\n",
      "/DataTitles   [ false false false false ] def\r\n",
      "\r\n",
      "/min { 2 copy gt { exch } if pop } bind def\r\n",
      "\r\n",
      "/max { 2 copy lt { exch } if pop } bind def\r\n"
     ]
    }
   ],
   "source": [
    "!head -n 25 ../data/ROSE1_dp.ps"
   ]
  },
  {
   "cell_type": "markdown",
   "metadata": {},
   "source": [
    "... except that at the end it includes base pairing probabilities for the structure:"
   ]
  },
  {
   "cell_type": "code",
   "execution_count": 6,
   "metadata": {},
   "outputs": [
    {
     "name": "stdout",
     "output_type": "stream",
     "text": [
      "54 75 0.9500000 lbox\r\n",
      "55 74 0.9500000 lbox\r\n",
      "56 73 0.9500000 lbox\r\n",
      "57 72 0.9500000 lbox\r\n",
      "58 71 0.9500000 lbox\r\n",
      "59 70 0.9500000 lbox\r\n",
      "60 69 0.9500000 lbox\r\n",
      "61 68 0.9500000 lbox\r\n",
      "76 116 0.9500000 lbox\r\n",
      "77 115 0.9500000 lbox\r\n",
      "79 113 0.9500000 lbox\r\n",
      "80 112 0.9500000 lbox\r\n",
      "81 111 0.9500000 lbox\r\n",
      "82 110 0.9500000 lbox\r\n",
      "84 108 0.9500000 lbox\r\n",
      "85 107 0.9500000 lbox\r\n",
      "86 106 0.9500000 lbox\r\n",
      "89 103 0.9500000 lbox\r\n",
      "90 102 0.9500000 lbox\r\n",
      "92 101 0.9500000 lbox\r\n",
      "93 100 0.9500000 lbox\r\n",
      "94 99 0.9500000 lbox\r\n",
      "showpage\r\n",
      "end\r\n",
      "%%EOF\r\n"
     ]
    }
   ],
   "source": [
    "!tail -n 25 ../data/ROSE1_dp.ps"
   ]
  },
  {
   "cell_type": "markdown",
   "metadata": {},
   "source": [
    "## From `RNAfold` manpage\n",
    "\n",
    "It also produces PostScript files with plots of the resulting secondary structure graph and a \"dot plot\" of the base pairing matrix. The dot plot shows a matrix of squares with area proportional to the pairing probability in the upper right half, and one square for each pair in the minimum free energy structure in the lower left half. For each pair i−j with probability p>10E−6 there is a line of the form\n",
    "\n",
    "`i j sqrt(p) ubox`\n",
    "\n",
    "in the PostScript file, so that the pair probabilities can be easily extracted."
   ]
  },
  {
   "cell_type": "code",
   "execution_count": 7,
   "metadata": {
    "scrolled": true
   },
   "outputs": [
    {
     "name": "stdout",
     "output_type": "stream",
     "text": [
      "1 16 0.988398700 ubox\n",
      "1 46 0.004186278 ubox\n",
      "1 52 0.006048086 ubox\n",
      "1 109 0.006282958 ubox\n",
      "1 114 0.010033249 ubox\n",
      "1 116 0.019380207 ubox\n",
      "2 15 0.999615089 ubox\n",
      "2 102 0.006665712 ubox\n",
      "2 108 0.006124445 ubox\n",
      "2 113 0.009015848 ubox\n",
      "2 115 0.016778111 ubox\n",
      "3 14 0.999864808 ubox\n",
      "3 17 0.003515375 ubox\n",
      "3 101 0.006674071 ubox\n",
      "3 107 0.006041594 ubox\n",
      "4 13 0.999522602 ubox\n",
      "4 16 0.004822295 ubox\n",
      "4 106 0.003943676 ubox\n",
      "4 109 0.007687185 ubox\n",
      "5 12 0.999914702 ubox\n",
      "5 15 0.004874945 ubox\n",
      "5 99 0.007129105 ubox\n",
      "5 108 0.007697248 ubox\n",
      "6 11 0.999524570 ubox\n",
      "6 14 0.004875357 ubox\n",
      "6 98 0.007140052 ubox\n",
      "6 107 0.007696684 ubox\n",
      "7 13 0.004057106 ubox\n",
      "7 97 0.007089061 ubox\n",
      "7 106 0.007502402 ubox\n",
      "8 96 0.007073948 ubox\n",
      "8 105 0.007181458 ubox\n",
      "9 90 0.004925009 ubox\n",
      "9 95 0.006456978 ubox\n",
      "9 104 0.003520763 ubox\n",
      "10 89 0.006106488 ubox\n",
      "10 93 0.003873335 ubox\n",
      "11 88 0.006365566 ubox\n",
      "11 92 0.003807256 ubox\n",
      "11 93 0.004710490 ubox\n",
      "12 87 0.007402256 ubox\n",
      "12 92 0.004917975 ubox\n",
      "13 86 0.007501189 ubox\n",
      "13 91 0.004789921 ubox\n",
      "14 47 0.006886134 ubox\n",
      "14 85 0.007575662 ubox\n",
      "14 90 0.003271218 ubox\n",
      "15 46 0.013083471 ubox\n",
      "15 84 0.007465038 ubox\n",
      "15 116 0.004516158 ubox\n",
      "16 44 0.137293296 ubox\n",
      "16 48 0.008186177 ubox\n",
      "16 53 0.050426392 ubox\n",
      "16 115 0.005074249 ubox\n",
      "17 25 0.006034476 ubox\n",
      "17 43 0.596518062 ubox\n",
      "17 46 0.718032769 ubox\n",
      "17 47 0.007504468 ubox\n",
      "17 52 0.206020361 ubox\n",
      "17 104 0.009791103 ubox\n",
      "17 109 0.012884538 ubox\n",
      "17 114 0.011564964 ubox\n",
      "17 116 0.024623449 ubox\n",
      "18 24 0.006147723 ubox\n",
      "18 41 0.080928351 ubox\n",
      "18 42 0.582695703 ubox\n",
      "18 45 0.719111559 ubox\n",
      "18 49 0.015238516 ubox\n",
      "18 51 0.206216622 ubox\n",
      "18 103 0.010282846 ubox\n",
      "18 108 0.012776055 ubox\n",
      "18 113 0.010923397 ubox\n",
      "18 115 0.023411116 ubox\n",
      "19 23 0.006118762 ubox\n",
      "19 40 0.083427376 ubox\n",
      "19 44 0.718551816 ubox\n",
      "19 48 0.016439739 ubox\n",
      "19 50 0.206085302 ubox\n",
      "19 53 0.003809741 ubox\n",
      "19 102 0.010366245 ubox\n",
      "19 107 0.012579371 ubox\n",
      "20 39 0.068192199 ubox\n",
      "20 40 0.995071006 ubox\n",
      "20 101 0.008563875 ubox\n",
      "21 38 0.048232243 ubox\n",
      "21 39 0.997505086 ubox\n",
      "21 40 0.006866296 ubox\n",
      "21 99 0.006479541 ubox\n",
      "21 108 0.004549614 ubox\n",
      "22 38 0.998666948 ubox\n",
      "22 39 0.004892970 ubox\n",
      "22 98 0.006479300 ubox\n",
      "22 107 0.004626752 ubox\n",
      "23 37 0.999827668 ubox\n",
      "23 97 0.006343742 ubox\n",
      "23 106 0.004616204 ubox\n",
      "24 36 0.999558262 ubox\n",
      "24 96 0.006235244 ubox\n",
      "24 105 0.004545728 ubox\n",
      "25 35 0.998130302 ubox\n",
      "25 53 0.012233155 ubox\n",
      "26 36 0.016594313 ubox\n",
      "26 52 0.012631521 ubox\n",
      "26 92 0.006268213 ubox\n",
      "27 34 0.996329276 ubox\n",
      "27 35 0.022878151 ubox\n",
      "27 91 0.006262904 ubox\n",
      "27 102 0.004660533 ubox\n",
      "28 33 0.996667555 ubox\n",
      "28 34 0.024661577 ubox\n",
      "28 50 0.013659363 ubox\n",
      "28 101 0.004661481 ubox\n",
      "29 33 0.022389966 ubox\n",
      "29 49 0.013697290 ubox\n",
      "29 100 0.004620635 ubox\n",
      "30 48 0.013693874 ubox\n",
      "30 99 0.004459090 ubox\n",
      "31 47 0.009611206 ubox\n",
      "31 87 0.006030195 ubox\n",
      "32 86 0.006335947 ubox\n",
      "33 85 0.006362213 ubox\n",
      "33 96 0.003484000 ubox\n",
      "34 47 0.010173601 ubox\n",
      "34 84 0.006288959 ubox\n",
      "34 95 0.003519777 ubox\n",
      "35 46 0.015684040 ubox\n",
      "35 94 0.003383716 ubox\n",
      "36 45 0.015751850 ubox\n",
      "37 44 0.015782921 ubox\n",
      "37 91 0.003450657 ubox\n",
      "38 43 0.015740921 ubox\n",
      "38 90 0.003438152 ubox\n",
      "39 89 0.003328040 ubox\n",
      "40 88 0.003313508 ubox\n",
      "41 87 0.003274310 ubox\n",
      "42 81 0.004244676 ubox\n",
      "43 53 0.118752331 ubox\n",
      "43 80 0.004398433 ubox\n",
      "43 107 0.003191091 ubox\n",
      "43 115 0.010248864 ubox\n",
      "44 52 0.123479039 ubox\n",
      "44 79 0.004162342 ubox\n",
      "44 84 0.017665599 ubox\n",
      "44 114 0.010726167 ubox\n",
      "45 78 0.003620496 ubox\n",
      "45 81 0.035318284 ubox\n",
      "45 83 0.017433339 ubox\n",
      "46 54 0.021466464 ubox\n",
      "46 80 0.035854874 ubox\n",
      "47 53 0.059737253 ubox\n",
      "47 80 0.075419201 ubox\n",
      "47 82 0.019325777 ubox\n",
      "47 115 0.003529058 ubox\n",
      "47 117 0.008554085 ubox\n",
      "48 52 0.068667562 ubox\n",
      "48 79 0.308544264 ubox\n",
      "48 81 0.020759128 ubox\n",
      "48 84 0.005296009 ubox\n",
      "48 114 0.003728964 ubox\n",
      "48 116 0.009762205 ubox\n",
      "49 78 0.312243547 ubox\n",
      "49 83 0.005232275 ubox\n",
      "50 77 0.312441391 ubox\n",
      "50 79 0.095257329 ubox\n",
      "51 78 0.096333515 ubox\n",
      "51 81 0.007031727 ubox\n",
      "52 70 0.005694488 ubox\n",
      "52 76 0.293488512 ubox\n",
      "52 80 0.007525824 ubox\n",
      "52 115 0.008230668 ubox\n",
      "53 69 0.005814571 ubox\n",
      "53 75 0.246143510 ubox\n",
      "53 79 0.007630834 ubox\n",
      "53 114 0.008210608 ubox\n",
      "54 68 0.005815355 ubox\n",
      "54 74 0.174182595 ubox\n",
      "54 75 0.968096543 ubox\n",
      "55 67 0.005813649 ubox\n",
      "55 74 0.984681490 ubox\n",
      "56 66 0.005820674 ubox\n",
      "56 73 0.999926564 ubox\n",
      "57 65 0.005817896 ubox\n",
      "57 72 0.999773030 ubox\n",
      "58 64 0.005809187 ubox\n",
      "58 71 0.999972313 ubox\n",
      "59 70 0.999960601 ubox\n",
      "60 69 0.999948977 ubox\n",
      "61 67 0.003614894 ubox\n",
      "61 68 0.998269043 ubox\n",
      "62 66 0.063179782 ubox\n",
      "71 116 0.004021265 ubox\n",
      "72 115 0.004023649 ubox\n",
      "73 114 0.004029499 ubox\n",
      "74 113 0.004021168 ubox\n",
      "75 115 0.004449103 ubox\n",
      "76 109 0.018779394 ubox\n",
      "76 114 0.025320957 ubox\n",
      "76 116 0.940534703 ubox\n",
      "77 108 0.018718570 ubox\n",
      "77 113 0.024492141 ubox\n",
      "77 115 0.941184813 ubox\n",
      "78 107 0.009382259 ubox\n",
      "78 108 0.004345699 ubox\n",
      "78 117 0.009580379 ubox\n",
      "79 107 0.016983132 ubox\n",
      "79 113 0.940095931 ubox\n",
      "79 115 0.077522482 ubox\n",
      "80 92 0.018170656 ubox\n",
      "80 104 0.007369408 ubox\n",
      "80 106 0.017068379 ubox\n",
      "80 109 0.009183489 ubox\n",
      "80 112 0.947874711 ubox\n",
      "80 114 0.294118824 ubox\n",
      "80 116 0.017130330 ubox\n",
      "81 91 0.018205828 ubox\n",
      "81 103 0.007860577 ubox\n",
      "81 108 0.006818192 ubox\n",
      "81 111 0.949089450 ubox\n",
      "81 113 0.294482137 ubox\n",
      "81 115 0.016409382 ubox\n",
      "82 90 0.018020866 ubox\n",
      "82 104 0.034137816 ubox\n",
      "82 110 0.931742249 ubox\n",
      "82 112 0.292939159 ubox\n",
      "83 100 0.037590153 ubox\n",
      "83 103 0.036750096 ubox\n",
      "83 108 0.008044688 ubox\n",
      "83 111 0.260049679 ubox\n",
      "84 99 0.040093121 ubox\n",
      "84 102 0.037193058 ubox\n",
      "84 107 0.007395172 ubox\n",
      "84 108 0.995544252 ubox\n",
      "85 91 0.003384021 ubox\n",
      "85 98 0.040108800 ubox\n",
      "85 101 0.037091949 ubox\n",
      "85 107 0.997109557 ubox\n",
      "85 113 0.018621737 ubox\n",
      "86 97 0.039357404 ubox\n",
      "86 104 0.022824723 ubox\n",
      "86 106 0.991749284 ubox\n",
      "86 112 0.018686284 ubox\n",
      "87 99 0.012909796 ubox\n",
      "87 100 0.030830436 ubox\n",
      "87 101 0.007139221 ubox\n",
      "87 102 0.019874731 ubox\n",
      "87 103 0.041762738 ubox\n",
      "87 108 0.003291841 ubox\n",
      "87 111 0.017858469 ubox\n",
      "88 98 0.012408471 ubox\n",
      "88 99 0.030956594 ubox\n",
      "88 100 0.008806228 ubox\n",
      "88 101 0.020630161 ubox\n",
      "88 102 0.043113854 ubox\n",
      "88 103 0.070450594 ubox\n",
      "88 107 0.004035595 ubox\n",
      "88 108 0.004256930 ubox\n",
      "89 98 0.030643115 ubox\n",
      "89 99 0.009066030 ubox\n",
      "89 100 0.022056031 ubox\n",
      "89 101 0.036302572 ubox\n",
      "89 102 0.067975413 ubox\n",
      "89 103 0.836896471 ubox\n",
      "89 107 0.005390753 ubox\n",
      "90 98 0.008707080 ubox\n",
      "90 99 0.022196417 ubox\n",
      "90 100 0.035806539 ubox\n",
      "90 101 0.038577585 ubox\n",
      "90 102 0.756679553 ubox\n",
      "90 115 0.007650119 ubox\n",
      "90 117 0.011910439 ubox\n",
      "91 97 0.006359660 ubox\n",
      "91 106 0.004476429 ubox\n",
      "91 109 0.025497988 ubox\n",
      "91 114 0.010369409 ubox\n",
      "91 116 0.015146413 ubox\n",
      "92 99 0.093227775 ubox\n",
      "92 101 0.963924449 ubox\n",
      "92 102 0.023998989 ubox\n",
      "92 108 0.025530170 ubox\n",
      "92 113 0.010368411 ubox\n",
      "92 115 0.015133607 ubox\n",
      "93 98 0.083480332 ubox\n",
      "93 99 0.055047198 ubox\n",
      "93 100 0.969560715 ubox\n",
      "93 101 0.018014740 ubox\n",
      "93 102 0.007671418 ubox\n",
      "93 103 0.182213229 ubox\n",
      "93 107 0.015888711 ubox\n",
      "94 98 0.061578711 ubox\n",
      "94 99 0.965880698 ubox\n",
      "94 101 0.012504460 ubox\n",
      "94 102 0.193292539 ubox\n",
      "95 101 0.193501122 ubox\n",
      "95 102 0.004554297 ubox\n",
      "96 100 0.174327583 ubox\n",
      "96 101 0.004449040 ubox\n",
      "98 110 0.003230757 ubox\n",
      "99 109 0.003226014 ubox\n",
      "100 110 0.003269619 ubox\n",
      "101 109 0.003822609 ubox\n",
      "101 110 0.005433951 ubox\n",
      "102 109 0.005653989 ubox\n",
      "106 115 0.007642579 ubox\n",
      "106 117 0.017802702 ubox\n",
      "107 114 0.011088268 ubox\n",
      "107 116 0.022419345 ubox\n",
      "108 114 0.031753481 ubox\n",
      "108 116 0.044261073 ubox\n",
      "109 113 0.031642938 ubox\n",
      "109 115 0.044659139 ubox\n"
     ]
    }
   ],
   "source": [
    "%%bash\n",
    "\n",
    "cat ../data/ROSE1_dp.ps | grep \"^[0-9].*ubox$\""
   ]
  },
  {
   "cell_type": "code",
   "execution_count": 8,
   "metadata": {},
   "outputs": [
    {
     "name": "stdout",
     "output_type": "stream",
     "text": [
      ">ROSE1\n"
     ]
    }
   ],
   "source": [
    "%%bash\n",
    "\n",
    "awk '/^>/' ../data/rose.fa | head -1"
   ]
  },
  {
   "cell_type": "markdown",
   "metadata": {},
   "source": [
    "## Final script\n",
    "\n",
    "Now we can put it all together in a `bash` script that will take an RNA `fasta` file, temperature range, run `RNAfold` for each `T` and extract and save base pairing probabilities in a `.txt` file.\n",
    "\n",
    "For example:\n",
    "\n",
    "```bash\n",
    "$./fold_temp.sh ../data/rose.fa 37 43\n",
    "```"
   ]
  },
  {
   "cell_type": "code",
   "execution_count": 9,
   "metadata": {},
   "outputs": [
    {
     "name": "stdout",
     "output_type": "stream",
     "text": [
      "Overwriting ../scripts/fold_temp.sh\n"
     ]
    }
   ],
   "source": [
    "%%writefile ../scripts/fold_temp.sh\n",
    "#!/bin/bash\n",
    "\n",
    "\n",
    "# Runs RNAfold for the given RNA sequence over the range of temperatures,\n",
    "# extracts base pairing probabilities and saves them in .txt files \n",
    "# for later analysis\n",
    "\n",
    "# PostScript file generated by RNAfold ends with this\n",
    "psext=\"_dp.ps\"\n",
    "\n",
    "# FASTA file with RNA sequence, rna.fa by default\n",
    "rna_fa=${1:-rna.fa}\n",
    "dirname=$(dirname \"$rna_fa\")\n",
    "\n",
    "# Temperature interval limits\n",
    "T1=${2:-37}\n",
    "T2=${3:-43}\n",
    "\n",
    "# Check the input file exists\n",
    "if [[ ! -f $rna_fa ]]\n",
    "then\n",
    "    echo \"Could not find $rna_fa ... Exiting.\"\n",
    "    exit 1\n",
    "fi\n",
    "\n",
    "# Get the base_name either from the fasta file or the filename\n",
    "base_name=`awk '/^>/' $rna_fa | head -1`\n",
    "if [[ -z \"$base_name\" ]]\n",
    "then\n",
    "    base_name=\"${rna_fa%.*}\"\n",
    "else\n",
    "    base_name=${base_name##>}\n",
    "fi\n",
    "                \n",
    "# Iterate over the T range and save probabilities to .txt file\n",
    "for T in $(seq $T1 $T2)\n",
    "do\n",
    "    echo \"Running RNAfold for Temp=$T ...\"\n",
    "    RNAfold -p -d2 --noPS --noLP -T $T < $rna_fa\n",
    "    tmpf=$(ls | grep _dp.ps)\n",
    "    grep \"^[0-9].*ubox$\" \"$tmpf\" > \"${dirname}/${base_name}_${T}.txt\"\n",
    "done\n",
    "               \n",
    "# Cleanup\n",
    "rm ${base_name}_dp.ps"
   ]
  },
  {
   "cell_type": "markdown",
   "metadata": {
    "collapsed": true
   },
   "source": [
    "## Let's run it for `hHSR` for 35<sup>o</sup>C-45<sup>o</sup>C range"
   ]
  },
  {
   "cell_type": "code",
   "execution_count": 10,
   "metadata": {},
   "outputs": [
    {
     "name": "stdout",
     "output_type": "stream",
     "text": [
      "Running RNAfold for Temp=35 ...\n",
      ">hHSR\n",
      "CCGUCCAAUUGAGGUCCGAACCGGUUUACACAAAAAUUUGACACGCCCCUGUGGGGAGGCACGAUGCUGCCUUAACUCUCCGGGUGAUUUCAUCUUCAGCGCCGAGGCGGAUGCACCUCGUUAAAGUGCUCGAAGCGGCGGCCAUCUGCAGCACUCCUUCGGCCUGGGCCGUGUCAUAGUGUGUUGCAUCGACCGGUUGAAUCCGCCGCCAUAAGCAGACGUUGGAGUGGUGUGAGGACUACAAUCAUUCUUUAGGAGAUGGCAUUCCUCCUUAAACCGCCUCACUAAGUGACGCUAAUGAUGCCUACAUUGCCCCGGAGACUGGGCUGUGUAGGUGCGUUCGCCUCCAGCUUUCAUCGUCCGGGUUCAUGAUCUAACUCGUUGUACAGAUGAAGCCACGUUUCCACCUCCAUGACCAGCUUGCUGCGCUGACCUAUCUAGGUCGCUGGCUUGCUAUCUGCAUUGCAAUUGCCAUGCUGGUUGGCAGUGCAUCCGCCAUCUUUUUGCACUCGAUGGAGUGGGCCACCCAAACGCGGGACGCCACACCAUUGGCUGAUAUGGGGACUCCCAUUCGCAGGCUUCGAUGUCGACUGGAGUCAAGGGC\n",
      "..((((..((((..((((((((((((.(((((......(((((((((((((.(((((((((.(((((((((...((((...))))........((((((((((((((........))))).....))))).)))).))))).)))))))....)))))))))...))).)))))))...)))))......))))))))(((((((.((....((((......(((((((((.((((((......((((.(((...)))))))......)))))).))))).((((...)))).((.((((.(((((((((.((((........)))).))))))))))))).)).))))))))....))..)))))))............((((.(((..(((((((.((.......(((((((..((((..((((.((.(((((....)))))))))))..((((.((((((.((....)).)))).)).))))((((((.............))))))((((((.((((....(((......)))...)))).)))))))))).))))))).........))..))))))).))))))))))).)))))))) (-219.18)\n",
      "..((((..((((..((({((((((((.(((((......((((((((((({(,{((((((({.(((((((((...{({{...})||,....,..((((((((((((((........))))).....))))).)))).)))))},)))})}.,,.)))))})}),..))),}))))))...)))))......))))))))(((((((.,({....,||.{,.({(((((((((.((((((......((({(((,..,}))))))......)))))).))))}.{(((...)))}.((.((((.(((((((((.((((,,,...,,)))).))))))))))))).)),))}}))}}.,..}),.)))))))..,,......,}((((.(((..(((((((..,...,,,.,,{{{{{,,{(((..((({.((.(((((....))))))))))).,|||,.,,((((.((....|||},)},))}}}))|(((({.............)))))}((((((.{(|{,,..(((......)))..|))}).))))))||,({.(((((....)))))})),.))))))).)))))))}))).)))})))) [-231.25]\n",
      "..((((..((((..((((((((((((.(((((......(((((((((((((.(((((((((.(((((((((...((((...))))........((((((((((((((........))))).....))))).)))).)))))).))))))....)))))))))...))).)))))))...)))))......))))))))(((((((.................(((((((((.((((((......(((............)))......)))))).))))).((((...)))).((.((((.(((((((((.((((........)))).))))))))))))).)).))))............)))))))............((((.(((..(((((((.........................((((.((.(((((....)))))))))))....................................(((((.............))))).((((((.(((.....(((......)))....))).))))))...((.(((((....)))))))...))))))).))))))))))).)))))))) {-185.12 d=85.77}\n",
      " frequency of mfe structure in ensemble 2.74327e-09; ensemble diversity 129.57\n",
      "Running RNAfold for Temp=36 ...\n",
      ">hHSR\n",
      "CCGUCCAAUUGAGGUCCGAACCGGUUUACACAAAAAUUUGACACGCCCCUGUGGGGAGGCACGAUGCUGCCUUAACUCUCCGGGUGAUUUCAUCUUCAGCGCCGAGGCGGAUGCACCUCGUUAAAGUGCUCGAAGCGGCGGCCAUCUGCAGCACUCCUUCGGCCUGGGCCGUGUCAUAGUGUGUUGCAUCGACCGGUUGAAUCCGCCGCCAUAAGCAGACGUUGGAGUGGUGUGAGGACUACAAUCAUUCUUUAGGAGAUGGCAUUCCUCCUUAAACCGCCUCACUAAGUGACGCUAAUGAUGCCUACAUUGCCCCGGAGACUGGGCUGUGUAGGUGCGUUCGCCUCCAGCUUUCAUCGUCCGGGUUCAUGAUCUAACUCGUUGUACAGAUGAAGCCACGUUUCCACCUCCAUGACCAGCUUGCUGCGCUGACCUAUCUAGGUCGCUGGCUUGCUAUCUGCAUUGCAAUUGCCAUGCUGGUUGGCAGUGCAUCCGCCAUCUUUUUGCACUCGAUGGAGUGGGCCACCCAAACGCGGGACGCCACACCAUUGGCUGAUAUGGGGACUCCCAUUCGCAGGCUUCGAUGUCGACUGGAGUCAAGGGC\n",
      "..((((..((((..((((((((((((.(((((......(((((((((((((.(((((((((.(((((((((...((((...))))........((((((((((((((........))))).....))))).)))).))))).)))))))....)))))))))...))).)))))))...)))))......))))))))(((((((.((....((((......(((((((((.((((((......((((.(((...)))))))......)))))).))))).((((...)))).((.((((.(((((((((.((((........)))).))))))))))))).)).))))))))....))..)))))))............((((.(((..(((((((.((.......(((((((..((((..((((.((.(((((....)))))))))))..((((.((((((.((....)).)))).)).))))((((((.............))))))((((((.((((....(((......)))...)))).)))))))))).))))))).........))..))))))).))))))))))).)))))))) (-214.64)\n",
      "..((((..((((..((({{(((((((.(((((......((((((((((({(,{((((((({.(((((((((...{{{{...})||,....,..((((((((((((((........))))).....))))).)))).)))))},)))})}.,,.)))))})}),..))),}))))))...)))))......)))))))}(((((((.,({....,||.{,.({(((((((((.((((((......((({(((,..,}))))))......)))))).))))}.{(({...)))}.((.((((.(((((((((.((((,,,...,,)))).))))))))))))).)),))}}))}}....}),.)))))))..,,......,,((((.(((..(((((((..,...,,,.,,{{{{{,,{(((..(({{.((.(((((....)))))))}))).,|||,.,,((((.((....|||},}},))}}}))|||{{{.............)))}}}{{{{||,||||,,..(((......)))..|))}}.}}}}))||,({.(((((....)))))})),.))))))).)))))))}))).)))})))) [-226.92]\n",
      "..((((..((((..((((((((((((.(((((......(((((((((((((..((((((((.(((((((((...(((.....)))........((((((((((((((........))))).....))))).)))).)))))).))))))....))))).)))...))).)))))))...)))))......))))))))(((((((.................(((((((((.((((((......(((............)))......)))))).))))).((((...)))).((.((((.(((((((((.((((........)))).))))))))))))).)).))))............)))))))............((((.(((..(((((((.........................((((.((.(((((....)))))))))))....................................(((((.............))))).((((((.(((.....(((......)))....))).))))))...((.(((((....)))))))...))))))).))))))))))).)))))))) {-179.20 d=86.40}\n",
      " frequency of mfe structure in ensemble 2.07401e-09; ensemble diversity 129.99\n",
      "Running RNAfold for Temp=37 ...\n",
      ">hHSR\n",
      "CCGUCCAAUUGAGGUCCGAACCGGUUUACACAAAAAUUUGACACGCCCCUGUGGGGAGGCACGAUGCUGCCUUAACUCUCCGGGUGAUUUCAUCUUCAGCGCCGAGGCGGAUGCACCUCGUUAAAGUGCUCGAAGCGGCGGCCAUCUGCAGCACUCCUUCGGCCUGGGCCGUGUCAUAGUGUGUUGCAUCGACCGGUUGAAUCCGCCGCCAUAAGCAGACGUUGGAGUGGUGUGAGGACUACAAUCAUUCUUUAGGAGAUGGCAUUCCUCCUUAAACCGCCUCACUAAGUGACGCUAAUGAUGCCUACAUUGCCCCGGAGACUGGGCUGUGUAGGUGCGUUCGCCUCCAGCUUUCAUCGUCCGGGUUCAUGAUCUAACUCGUUGUACAGAUGAAGCCACGUUUCCACCUCCAUGACCAGCUUGCUGCGCUGACCUAUCUAGGUCGCUGGCUUGCUAUCUGCAUUGCAAUUGCCAUGCUGGUUGGCAGUGCAUCCGCCAUCUUUUUGCACUCGAUGGAGUGGGCCACCCAAACGCGGGACGCCACACCAUUGGCUGAUAUGGGGACUCCCAUUCGCAGGCUUCGAUGUCGACUGGAGUCAAGGGC\n",
      "..((((..((((..((((((((((((.(((((......(((((((((((((.(((((((((.(((((((((...((((...))))........((((((((((((((........))))).....))))).)))).))))).)))))))....)))))))))...))).)))))))...)))))......))))))))(((((((.((....((((......(((((((((.((((((......((((.(((...)))))))......)))))).))))).((((...)))).((.((((.(((((((((.((((........)))).))))))))))))).)).))))))))....))..)))))))............((((.(((..(((((((.((.......(((((((..((((..((((.((.(((((....)))))))))))..((((.((((((.((....)).)))).)).))))((((((.............))))))((((((.((((....(((......)))...)))).)))))))))).))))))).........))..))))))).))))))))))).)))))))) (-210.80)\n",
      "..((((..((((..((({{(((((((.(((((......(((((((((({{(,{((((((({.(((((((((...{{{{...}}||,....,..((((((((((((((........))))).....))))).)))).)))))},)))})}.,,.)))))})}),..))),}))))))...))))).,....)))))))}(((((((.,({...,,||.,,.({(((((((((.((((((......((({(((,..,})))))}......)))))).))))}.{{{{...)))}.((.{(((.(((((((((.((((,,,...,,)))).))))))))))))).)),))}}))}}....}),.)))))))..,,......,,((((.(((..(((((((..,...,,,.,,{{{{{,,{(((..(({{.((.(((((....)))))))}))).,|||,.,,((((,((....|||},}},))}}}))|||||{.............)))}}}{{{|||,||||,,..(((......)))..|||}}.}}}}))||,((.(((((....)))))))),.))))))).)))))))}))).)))})))) [-222.62]\n",
      "..((((..((((..((((((((((((.(((((......(((((((((((((..((((((((.(((((((((...(((.....)))........((((((((((((((........))))).....))))).)))).)))))).))))))....))))).)))...))).)))))))...)))))......))))))))(((((((.................(((((((((.((((((......(((............)))......)))))).))))).((((...)))).((.((((.(((((((((.((((........)))).))))))))))))).)).))))............)))))))............((((.(((..(((((((.........................((((.((.(((((....)))))))))))....................................(((((.............))))).((((((.(((.....(((......)))....))).))))))...((.(((((....)))))))...))))))).))))))))))).)))))))) {-176.00 d=87.11}\n",
      " frequency of mfe structure in ensemble 4.70019e-09; ensemble diversity 130.42\n",
      "Running RNAfold for Temp=38 ...\n",
      ">hHSR\n",
      "CCGUCCAAUUGAGGUCCGAACCGGUUUACACAAAAAUUUGACACGCCCCUGUGGGGAGGCACGAUGCUGCCUUAACUCUCCGGGUGAUUUCAUCUUCAGCGCCGAGGCGGAUGCACCUCGUUAAAGUGCUCGAAGCGGCGGCCAUCUGCAGCACUCCUUCGGCCUGGGCCGUGUCAUAGUGUGUUGCAUCGACCGGUUGAAUCCGCCGCCAUAAGCAGACGUUGGAGUGGUGUGAGGACUACAAUCAUUCUUUAGGAGAUGGCAUUCCUCCUUAAACCGCCUCACUAAGUGACGCUAAUGAUGCCUACAUUGCCCCGGAGACUGGGCUGUGUAGGUGCGUUCGCCUCCAGCUUUCAUCGUCCGGGUUCAUGAUCUAACUCGUUGUACAGAUGAAGCCACGUUUCCACCUCCAUGACCAGCUUGCUGCGCUGACCUAUCUAGGUCGCUGGCUUGCUAUCUGCAUUGCAAUUGCCAUGCUGGUUGGCAGUGCAUCCGCCAUCUUUUUGCACUCGAUGGAGUGGGCCACCCAAACGCGGGACGCCACACCAUUGGCUGAUAUGGGGACUCCCAUUCGCAGGCUUCGAUGUCGACUGGAGUCAAGGGC\n",
      "..((((..((((..((((((((((((.(((((......(((((((((((((.(((((((((.(((((((((...((((...))))........((((((((((((((........))))).....))))).)))).))))).)))))))....)))))))))...))).)))))))...)))))......))))))))(((((((.((....((((......(((((((((.((((((......((((.(((...)))))))......)))))).))))).((((...)))).((.((((.(((((((((.((((........)))).))))))))))))).)).))))))))....))..)))))))............((((.(((..(((((((.((.......(((((((..((((..((((.((.(((((....)))))))))))..((((.((((((.((....)).)))).)).))))((((((.............))))))((((((.((((....(((......)))...)))).)))))))))).))))))).........))..))))))).))))))))))).)))))))) (-205.64)\n",
      "..((((..((((..((({{(((((((.(((((......(((((((((({{(,{((((((({.(((((((((...{{{{...}}||,....,..((((((((((((((........))))).....))))).)))).)))))},)))})}.,,.)))))})}),..))),}))))))...)))))......)))))))}(((((((.,({...,,||.,,.({(((((((((.((((((......((({(((,..,})))))}......)))))).))))}.{{{{...})}|.((.{(((.(((((((((.((((,,,...,,)))).))))))))))))).)),))}}))}}....}),.)))))))..,,......,,((((.(((..(((((((..,...,,,.,,{{{{{,,{(((..(({{.((.(((((....)))))))}))).,|||..,,((({,((....||||,}},)))}}))||||||.............)))}}}{{{|||,||||,...(((......)))..||||}.}}}}))||,((.(((((....)))))))),.))))))).)))))))}))).)))})))) [-218.37]\n",
      "..((((..((((..((((((((((((.(((((......(((((((((((((..((((((((.(((((((((....(.......).........((((((((((((((........))))).....))))).)))).)))))).))))))....))))).)))...))).)))))))...)))))......))))))))(((((((.................(((((((((.((((((......(((............)))......)))))).))))).((((...)))).((.((((.(((((((((.((((........)))).))))))))))))).)).))))............)))))))............((((.(((..(((((((.........................(((..((.(((((....))))))).)))....................................(((((.............))))).((((((.((......(((......))).....)).))))))...((.(((((....)))))))...))))))).))))))))))).)))))))) {-164.49 d=87.82}\n",
      " frequency of mfe structure in ensemble 1.15239e-09; ensemble diversity 130.75\n",
      "Running RNAfold for Temp=39 ...\n",
      ">hHSR\n",
      "CCGUCCAAUUGAGGUCCGAACCGGUUUACACAAAAAUUUGACACGCCCCUGUGGGGAGGCACGAUGCUGCCUUAACUCUCCGGGUGAUUUCAUCUUCAGCGCCGAGGCGGAUGCACCUCGUUAAAGUGCUCGAAGCGGCGGCCAUCUGCAGCACUCCUUCGGCCUGGGCCGUGUCAUAGUGUGUUGCAUCGACCGGUUGAAUCCGCCGCCAUAAGCAGACGUUGGAGUGGUGUGAGGACUACAAUCAUUCUUUAGGAGAUGGCAUUCCUCCUUAAACCGCCUCACUAAGUGACGCUAAUGAUGCCUACAUUGCCCCGGAGACUGGGCUGUGUAGGUGCGUUCGCCUCCAGCUUUCAUCGUCCGGGUUCAUGAUCUAACUCGUUGUACAGAUGAAGCCACGUUUCCACCUCCAUGACCAGCUUGCUGCGCUGACCUAUCUAGGUCGCUGGCUUGCUAUCUGCAUUGCAAUUGCCAUGCUGGUUGGCAGUGCAUCCGCCAUCUUUUUGCACUCGAUGGAGUGGGCCACCCAAACGCGGGACGCCACACCAUUGGCUGAUAUGGGGACUCCCAUUCGCAGGCUUCGAUGUCGACUGGAGUCAAGGGC\n",
      "..((((..((((..((((((((((((.(((((......(((((((((((((.(((((((((.(((((((((...((((...))))........((((((((((((((........))))).....))))).)))).))))).)))))))....)))))))))...))).)))))))...)))))......))))))))(((((((.((....((((......(((((((((.((((((......((((.(((...)))))))......)))))).))))).((((...)))).((.((((.(((((((((.((((........)))).))))))))))))).)).))))))))....))..)))))))............((((.(((..(((((((.((.......(((((((..((((..((((.((.(((((....)))))))))))..((((.((((((.((....)).)))).)).))))((((((.............))))))((((((.((((....(((......)))...)))).)))))))))).))))))).........))..))))))).))))))))))).)))))))) (-201.15)\n",
      "..((((..((((..((({{(((((((.(((((......(((((((((({{(,{((((((({.(((((((((...{{{{...}}||,....,.,((((((((((((((........))))).....))))).)))).)))))},)))})}.,,.)))))})}),..))),}))))))...)))))......)))))))}(((((((.,({...,,||.,,.({(((((((((.((((((......((({(({,..,})))))}......)))))).))))}.{{{{...}}}|.((.{(((.{((((((((.((((,,,...,,)))).))))))))))))).)),))}}))}}....}),.)))))))..,,......,,((((.(((..(((((((......,,,.,{{{{{{,,,(((..(({{.((.(((((....)))))))}))).,|||...,((({,((....||||,}},))),}))||||||.............)))}}}{{||||,||||,...(((......)))..||||}.}}}}))||,((.(((((....)))))))),.))))))).)))))))}))).)))})))) [-214.14]\n",
      "..((((..((((..((((((((((((.(((((......(((((((((((((..((((((((.(((((((((....(.......).........((((((((((((((........))))).....))))).)))).)))))).))))))....))))).)))...))).)))))))...)))))......))))))))(((((((.................(((((((((.((((((......(((............)))......)))))).))))).((((...)))).((.((((.(((((((((.((((........)))).))))))))))))).)).))))............)))))))............((((.(((..(((((((.........................(((..((.(((((....))))))).)))....................................(((((.............))))).((((((.((......(((......))).....)).))))))...((.(((((....)))))))...))))))).))))))))))).)))))))) {-160.88 d=88.57}\n",
      " frequency of mfe structure in ensemble 8.06448e-10; ensemble diversity 131.11\n",
      "Running RNAfold for Temp=40 ...\n",
      ">hHSR\n",
      "CCGUCCAAUUGAGGUCCGAACCGGUUUACACAAAAAUUUGACACGCCCCUGUGGGGAGGCACGAUGCUGCCUUAACUCUCCGGGUGAUUUCAUCUUCAGCGCCGAGGCGGAUGCACCUCGUUAAAGUGCUCGAAGCGGCGGCCAUCUGCAGCACUCCUUCGGCCUGGGCCGUGUCAUAGUGUGUUGCAUCGACCGGUUGAAUCCGCCGCCAUAAGCAGACGUUGGAGUGGUGUGAGGACUACAAUCAUUCUUUAGGAGAUGGCAUUCCUCCUUAAACCGCCUCACUAAGUGACGCUAAUGAUGCCUACAUUGCCCCGGAGACUGGGCUGUGUAGGUGCGUUCGCCUCCAGCUUUCAUCGUCCGGGUUCAUGAUCUAACUCGUUGUACAGAUGAAGCCACGUUUCCACCUCCAUGACCAGCUUGCUGCGCUGACCUAUCUAGGUCGCUGGCUUGCUAUCUGCAUUGCAAUUGCCAUGCUGGUUGGCAGUGCAUCCGCCAUCUUUUUGCACUCGAUGGAGUGGGCCACCCAAACGCGGGACGCCACACCAUUGGCUGAUAUGGGGACUCCCAUUCGCAGGCUUCGAUGUCGACUGGAGUCAAGGGC\n",
      "..((((..((((..((((((((((((.(((((......(((((((((((((.(((((((((.(((((((((...((((...))))........((((((((((((((........))))).....))))).)))).))))).)))))))....)))))))))...))).)))))))...)))))......))))))))(((((((.((....((((......(((((((((.((((((......((((.(((...)))))))......)))))).))))).((((...)))).((.((((.(((((((((.((((........)))).))))))))))))).)).))))))))....))..)))))))............((((.(((..(((((((............(((..((((((.......((.(((((....)))))))((((((((..........))))..)))).))))))))).((((((.............))))))((((((.((((....(((......)))...)))).))))))((.((.(((((....))))))))).))))))).))))))))))).)))))))) (-196.61)\n",
      "..((((..((((..((({{(((((((.(((((......(((((((((({,(,{((((((({.(((((((((...,{{{...||||{....,,,((((((((((((((........))))).....))))).)))).)))))},)))})}.,,.)))))})}),..))),}))))))...)))))......)))))))|(((((((.,(,...,,||.,,.({(((((((((.((((((......((({(({,..,}}))))}......)))))).))))}.{{{{...}}||.((.{(((.{((((((((.((((,,,...,,)))).))))))))))))).)),)))}))}}....}},.)))))))..,,......,,((((.(((..(((((((......,,,.,{{{{{{{,,(((..(({{.((.(((((....)))))))}))}.,|||...,((({,((....||||.}},))),}))||||||.............)))}}}{{||||,||||,...(((......)))..||||}.}}}}))||,((.(((((....)))))))),.))))))).)))))))}))).)))})))) [-209.94]\n",
      "..((((..((((..((((((((((((.(((((......((((((((((.....((((((((.(((((((((....(.......).........((((((((((((((........))))).....))))).)))).)))))).))))))....))))).......))).)))))))...)))))......))))))))(((((((.................(((((((((.((((((......(((............)))......)))))).))))).((((...)))).((.((((.(((((((((.((((........)))).))))))))))))).)).))))............)))))))............((((.(((..(((((((.........................(((..((.(((((....))))))).)))....................................(((((.............))))).((((((.((......(((......))).....)).))))))...((.(((((....)))))))...))))))).))))))))))).)))))))) {-154.68 d=89.40}\n",
      " frequency of mfe structure in ensemble 5.01213e-10; ensemble diversity 131.54\n",
      "Running RNAfold for Temp=41 ...\n",
      ">hHSR\n",
      "CCGUCCAAUUGAGGUCCGAACCGGUUUACACAAAAAUUUGACACGCCCCUGUGGGGAGGCACGAUGCUGCCUUAACUCUCCGGGUGAUUUCAUCUUCAGCGCCGAGGCGGAUGCACCUCGUUAAAGUGCUCGAAGCGGCGGCCAUCUGCAGCACUCCUUCGGCCUGGGCCGUGUCAUAGUGUGUUGCAUCGACCGGUUGAAUCCGCCGCCAUAAGCAGACGUUGGAGUGGUGUGAGGACUACAAUCAUUCUUUAGGAGAUGGCAUUCCUCCUUAAACCGCCUCACUAAGUGACGCUAAUGAUGCCUACAUUGCCCCGGAGACUGGGCUGUGUAGGUGCGUUCGCCUCCAGCUUUCAUCGUCCGGGUUCAUGAUCUAACUCGUUGUACAGAUGAAGCCACGUUUCCACCUCCAUGACCAGCUUGCUGCGCUGACCUAUCUAGGUCGCUGGCUUGCUAUCUGCAUUGCAAUUGCCAUGCUGGUUGGCAGUGCAUCCGCCAUCUUUUUGCACUCGAUGGAGUGGGCCACCCAAACGCGGGACGCCACACCAUUGGCUGAUAUGGGGACUCCCAUUCGCAGGCUUCGAUGUCGACUGGAGUCAAGGGC\n",
      "..((((..((((..((((((((((((.(((((......(((((((((((((.(((((((((.(((((((((...((((...))))........((((((((((((((........))))).....))))).)))).))))).)))))))....)))))))))...))).)))))))...)))))......))))))))(((((((.((....((((......(((((((((.((((((......((((.(((...)))))))......)))))).))))).((((...)))).((.((((.(((((((((.((((........)))).))))))))))))).)).))))))))....))..)))))))............((((.(((..(((((((............(((..((((((.......((.(((((....)))))))((((((((..........))))..)))).))))))))).((((((.............))))))((((((.((((....(((......)))...)))).))))))((.((.(((((....))))))))).))))))).))))))))))).)))))))) (-192.44)\n",
      "..((((..((((..((({{(((((((.(((((......(((((((((({,(,{((((((({.(((((((((...,{{{...||||{....,,,((((((((((((((........))))).....))))).)))).)))))},)))})}.,,.))))),)}),..))),}))))))...)))))......)))))))|(((((((.,(,...,,||.,,.({(((((((((.((((((......((({(({,..,}}))))}......)))))).))))}.{{{{...}}||.((.{(((.{((((((((.((((,,,...,,)))).))))))))))))).)),)))}))}}....}},.))))))),.,.......,,((((.(((..(((((((......,,{.,{{{{{{{,,(((..(({{.((.(((((....)))))))}))}.,|||...,((({,((....||||.}},))),}))||||||.............}))}}}{{||||,||||,...(((......)))..||||}.}}}}))}|,((.(((((....)))))))),.))))))).)))))))}))).)))})))) [-205.76]\n",
      "..((((..((((..((((((((((((.(((((......((((((((((.....((((((((.(((((((((......................((((((((((((((........))))).....))))).)))).)))))).))))))....))))).......))).)))))))...)))))......))))))))(((((((.................(((((((((.((((((......(((............)))......)))))).))))).((((...)))).((.((((.(((((((((.((((........)))).))))))))))))).)).))))............)))))))............((((.(((..(((((((.........................(((..((.(((((....))))))).)))....................................(((((.............))))).((((((.........(((......)))........))))))...((.(((((....)))))))...))))))).))))))))))).)))))))) {-152.53 d=90.30}\n",
      " frequency of mfe structure in ensemble 5.42557e-10; ensemble diversity 132.08\n",
      "Running RNAfold for Temp=42 ...\n",
      ">hHSR\n",
      "CCGUCCAAUUGAGGUCCGAACCGGUUUACACAAAAAUUUGACACGCCCCUGUGGGGAGGCACGAUGCUGCCUUAACUCUCCGGGUGAUUUCAUCUUCAGCGCCGAGGCGGAUGCACCUCGUUAAAGUGCUCGAAGCGGCGGCCAUCUGCAGCACUCCUUCGGCCUGGGCCGUGUCAUAGUGUGUUGCAUCGACCGGUUGAAUCCGCCGCCAUAAGCAGACGUUGGAGUGGUGUGAGGACUACAAUCAUUCUUUAGGAGAUGGCAUUCCUCCUUAAACCGCCUCACUAAGUGACGCUAAUGAUGCCUACAUUGCCCCGGAGACUGGGCUGUGUAGGUGCGUUCGCCUCCAGCUUUCAUCGUCCGGGUUCAUGAUCUAACUCGUUGUACAGAUGAAGCCACGUUUCCACCUCCAUGACCAGCUUGCUGCGCUGACCUAUCUAGGUCGCUGGCUUGCUAUCUGCAUUGCAAUUGCCAUGCUGGUUGGCAGUGCAUCCGCCAUCUUUUUGCACUCGAUGGAGUGGGCCACCCAAACGCGGGACGCCACACCAUUGGCUGAUAUGGGGACUCCCAUUCGCAGGCUUCGAUGUCGACUGGAGUCAAGGGC\n",
      "..((((..((((..((((((((((((.(((((......(((((((((((((.(((((((((.(((((((((...((((...))))........((((((((((((((........))))).....))))).)))).))))).)))))))....)))))))))...))).)))))))...)))))......))))))))(((((((.((....((((......(((((((((.((((((......((((.(((...)))))))......)))))).))))).((((...)))).((.((((.(((((((((.((((........)))).))))))))))))).)).))))))))....))..)))))))............((((.(((..(((((((............(((..((((((.......((.(((((....)))))))((((((((..........))))..)))).))))))))).((((((.............))))))((((((.((((....(((......)))...)))).))))))((.((.(((((....))))))))).))))))).))))))))))).)))))))) (-187.73)\n",
      "..((((..((((..((({{(((((((.(((((......(((((((((({,(,{((((((({.(((((((((...,{{{...||||{....,,,{(((((((((((((........))))).....))))).)))).)))))},)))})}.,,.))))),)}),..))),}))))))...)))))......)))))))|(((((((.,(,...,,||.,,.({(((((((((.((((((......((({{({,..,}}))))}......)))))).))))}.{{{{...|}||.((.{{{(.{((((((((.((((,,,...,,)))).))))))))))))).)),)))}))}}....}},.))))))),.........,,((((.(((..(((((((......,,{.,{{{{{{{,,(((..(({{.((.(((((....)))))))}))}.,||}...,(({{,((....||||.},,))),,))||||||.............}))}}}{{||||,||||,...(((......)))..{|||}.}}}}))}},((.(((((....)))))))),.))))))).)))))))}))).)))})))) [-201.61]\n",
      "..((((..((((..((((((((((((.(((((......((((((((((.....((((((((.(((((((((......................((((((((((((((........))))).....))))).)))).)))))).))))))....))))).......))).)))))))...)))))......))))))))(((((((.................(((((((((.((((((......(((............)))......)))))).))))).((((...)))).((.((((.(((((((((.((((........)))).))))))))))))).)).))))............)))))))............((((.(((..(((((((.........................(((..((.(((((....))))))).)))....................................((((...............))))...((((.........(((......)))........)))).....((.(((((....)))))))...))))))).))))))))))).)))))))) {-143.26 d=91.19}\n",
      " frequency of mfe structure in ensemble 2.37851e-10; ensemble diversity 132.74\n",
      "Running RNAfold for Temp=43 ...\n",
      ">hHSR\n",
      "CCGUCCAAUUGAGGUCCGAACCGGUUUACACAAAAAUUUGACACGCCCCUGUGGGGAGGCACGAUGCUGCCUUAACUCUCCGGGUGAUUUCAUCUUCAGCGCCGAGGCGGAUGCACCUCGUUAAAGUGCUCGAAGCGGCGGCCAUCUGCAGCACUCCUUCGGCCUGGGCCGUGUCAUAGUGUGUUGCAUCGACCGGUUGAAUCCGCCGCCAUAAGCAGACGUUGGAGUGGUGUGAGGACUACAAUCAUUCUUUAGGAGAUGGCAUUCCUCCUUAAACCGCCUCACUAAGUGACGCUAAUGAUGCCUACAUUGCCCCGGAGACUGGGCUGUGUAGGUGCGUUCGCCUCCAGCUUUCAUCGUCCGGGUUCAUGAUCUAACUCGUUGUACAGAUGAAGCCACGUUUCCACCUCCAUGACCAGCUUGCUGCGCUGACCUAUCUAGGUCGCUGGCUUGCUAUCUGCAUUGCAAUUGCCAUGCUGGUUGGCAGUGCAUCCGCCAUCUUUUUGCACUCGAUGGAGUGGGCCACCCAAACGCGGGACGCCACACCAUUGGCUGAUAUGGGGACUCCCAUUCGCAGGCUUCGAUGUCGACUGGAGUCAAGGGC\n",
      "..((((..((((..((((((((((((.(((((......(((((((((((((.(((((((((.(((((((((...((((...))))........((((((((((((((........))))).....))))).)))).))))).)))))))....)))))))))...))).)))))))...)))))......))))))))(((((((.((....((((......(((((((((.((((((......((((.(((...)))))))......)))))).))))).((((...)))).((.((((.(((((((((.((((........)))).))))))))))))).)).))))))))....))..)))))))............((((.(((..(((((((............(((..((((((.......((.(((((....)))))))((((((((..........))))..)))).))))))))).((((((.............))))))((((((.((((....(((......)))...)))).))))))((.((.(((((....))))))))).))))))).))))))))))).)))))))) (-183.48)\n",
      "..((((..((((..((({{(((((((.(((((......(((((((((({,(,{((((((({.(((((((((...,{{{...||||{....,,,{(((((((((((((........))))).....))))).)))}.)))))},)))})}.,,.))))),)}),..))),}))))))...)))))......)))))))|(((((((.,(,...,,||.,,.{{(((((((((.((((((......((({{({,..,}}))))}......)))))).))))}.{{{{...||||.((.{{{{.{((((((((.((((,,,...,,)))).))))))))))))).)),))))))}}....}},.))))))),.........,,((((.(((..(((((((......,{{..{{{{{{{,,(((..(({{.((.(((((....)))))))}))}.,||}...,(({{,((....||||.,,,))),,))||||||.............}))}}}{{||||,||||,...(((......)))..{|||,.,,,,))}},((.(((((....)))))))),.))))))).))))))))))).)))})))) [-197.48]\n",
      "..((((..((((..((((((((((((.(((((......((((((((((.....((((((((.(((((((((......................((((((((((((((........))))).....))))).)))).)))))).))))))....))))).......))).)))))))...)))))......))))))))(((((((.................(((((((((.((((((......(((............)))......)))))).))))).((((...)))).((.((((.(((((((((.((((........)))).))))))))))))).)).))))............)))))))............((((.(((..(((((((.....................((..(((..((.(((((....))))))).)))..)).................................(((...............))).................(((......))).................((.(((((....)))))))...))))))).))))))))))).)))))))) {-138.81 d=92.03}\n",
      " frequency of mfe structure in ensemble 2.09126e-10; ensemble diversity 133.58\n",
      "Running RNAfold for Temp=44 ...\n",
      ">hHSR\n",
      "CCGUCCAAUUGAGGUCCGAACCGGUUUACACAAAAAUUUGACACGCCCCUGUGGGGAGGCACGAUGCUGCCUUAACUCUCCGGGUGAUUUCAUCUUCAGCGCCGAGGCGGAUGCACCUCGUUAAAGUGCUCGAAGCGGCGGCCAUCUGCAGCACUCCUUCGGCCUGGGCCGUGUCAUAGUGUGUUGCAUCGACCGGUUGAAUCCGCCGCCAUAAGCAGACGUUGGAGUGGUGUGAGGACUACAAUCAUUCUUUAGGAGAUGGCAUUCCUCCUUAAACCGCCUCACUAAGUGACGCUAAUGAUGCCUACAUUGCCCCGGAGACUGGGCUGUGUAGGUGCGUUCGCCUCCAGCUUUCAUCGUCCGGGUUCAUGAUCUAACUCGUUGUACAGAUGAAGCCACGUUUCCACCUCCAUGACCAGCUUGCUGCGCUGACCUAUCUAGGUCGCUGGCUUGCUAUCUGCAUUGCAAUUGCCAUGCUGGUUGGCAGUGCAUCCGCCAUCUUUUUGCACUCGAUGGAGUGGGCCACCCAAACGCGGGACGCCACACCAUUGGCUGAUAUGGGGACUCCCAUUCGCAGGCUUCGAUGUCGACUGGAGUCAAGGGC\n",
      "..((((..((((..((((((((((((.(((((......(((((((((((((.(((((((((.(((((((((...((((...))))........((((((((((((((........))))).....))))).)))).))))).)))))))....)))))))))...))).)))))))...)))))......))))))))(((((((.((....((((......(((((((((.((((((......((((.(((...)))))))......)))))).))))).((((...)))).((.((((.(((((((((.((((........)))).))))))))))))).)).))))))))....))..)))))))............((((.(((..(((((((............(((..((((((.......((.(((((....)))))))((((((((..........))))..)))).))))))))).((((((.............))))))((((((.((((....(((......)))...)))).))))))((.((.(((((....))))))))).))))))).))))))))))).)))))))) (-179.54)\n",
      "..((((..((((..((({{(((((((.(((((......(((((((((({,({{((((((({.(((((((((...,{,,...||||{....,,,|(((((((((((((........))))).....))))).)))}.)))))},)))})}.,,.))))),)}),..))),}))))))...)))))......)))))))|(((((((.,(,...,,||.,,.{{(((((((((.((((((......((({{({,..,}}))))}......)))))).))))}.{{{{...||||.((.{{{{.{((((((((.((((,,,...,,)))).))))))))))))).)),))))))}}....}},.))))))),.........,,((((.(((..(((((((......,{{..{{{{{{{,,(((..(({{.((.(((((....)))))))}))}.,||}...,(({{,((....||{|.,,}))),,))}|||||.............}))}}}{{||||}||||,...(((......)))..{|||,.,,,,))}},((.(((((....)))))))),.))))))).))))))))))).)))})))) [-193.38]\n",
      "..((((..((((..((((((((((((.(((((......((((((((((.....((((((((.(((((((((......................((((((((((((((........))))).....))))).)))).)))))).))))))....))))).......))).)))))))...)))))......))))))))(((((((.................(((((((((.((((((......(((............)))......)))))).)))))..(((...)))..((..(((.(((((((((.((((........)))).))))))))))))..)).))))............)))))))............((((.(((..(((((((.....................((..(((..((.(((((....))))))).)))..)).......................................................................(((......))).................((.(((((....)))))))...))))))).))))))))))).)))))))) {-132.99 d=92.83}\n",
      " frequency of mfe structure in ensemble 2.88592e-10; ensemble diversity 134.62\n",
      "Running RNAfold for Temp=45 ...\n",
      ">hHSR\n",
      "CCGUCCAAUUGAGGUCCGAACCGGUUUACACAAAAAUUUGACACGCCCCUGUGGGGAGGCACGAUGCUGCCUUAACUCUCCGGGUGAUUUCAUCUUCAGCGCCGAGGCGGAUGCACCUCGUUAAAGUGCUCGAAGCGGCGGCCAUCUGCAGCACUCCUUCGGCCUGGGCCGUGUCAUAGUGUGUUGCAUCGACCGGUUGAAUCCGCCGCCAUAAGCAGACGUUGGAGUGGUGUGAGGACUACAAUCAUUCUUUAGGAGAUGGCAUUCCUCCUUAAACCGCCUCACUAAGUGACGCUAAUGAUGCCUACAUUGCCCCGGAGACUGGGCUGUGUAGGUGCGUUCGCCUCCAGCUUUCAUCGUCCGGGUUCAUGAUCUAACUCGUUGUACAGAUGAAGCCACGUUUCCACCUCCAUGACCAGCUUGCUGCGCUGACCUAUCUAGGUCGCUGGCUUGCUAUCUGCAUUGCAAUUGCCAUGCUGGUUGGCAGUGCAUCCGCCAUCUUUUUGCACUCGAUGGAGUGGGCCACCCAAACGCGGGACGCCACACCAUUGGCUGAUAUGGGGACUCCCAUUCGCAGGCUUCGAUGUCGACUGGAGUCAAGGGC\n",
      "..((((..((((..((((((((((((.(((((......(((((((((((((.(((((((((.(((((((((...((((...))))........((((((((((((((........))))).....))))).)))).))))).)))))))....)))))))))...))).)))))))...)))))......))))))))(((((((.((....((((......(((((((((.((((((......((((.(((...)))))))......)))))).))))).((((...)))).((.((((.(((((((((.((((........)))).))))))))))))).)).))))))))....))..)))))))............((((.(((..(((((((............(((..((((((.......((.(((((....)))))))((((((((..........))))..)))).))))))))).((((((.............))))))((((((.((((....(((......)))...)))).))))))((.((.(((((....))))))))).))))))).))))))))))).)))))))) (-174.74)\n",
      "..((((..((((..((({{(((((((.(((((......(((((((((({,({{((((((({.(((((((((...,,,,...||||{....,,,|(((((((((((((........))))).....))))).)))}.)))))},)))})}.,,.))))),)}),..))),}))))))...)))))......)))))))|(((((((.,(,...,,||.,,.{{(((((((((.((((((......{(({{({,..,}}))))}......)))))).))))}.|{{{...||||,((.,{{{.{((((((((.((((,,,...,,)))).))))))))))))},)),))))))}}....}},.))))))),.........,,((((.(((..(((((((......,{{..{{{{{{{,,(((..(({{.((.(((((....)))))))}})}.,||}...,(({{{((....||{|.,,}))),,))}|||||.............})}}}}{{||||}||||,...(((......)))..{|||,.,,,,)))},({.(((((....)))))))),.))))))).))))))))))).)))})))) [-189.31]\n",
      "..((((..((((..((((((((((((.(((((......((((((((((.....((((((((.(((((((((......................((((((((((((((........))))).....))))).)))).)))))).))))))....))))).......))).)))))))...)))))......))))))))(((((((.................(((((((((.((((((......(((............)))......)))))).)))))..(((...)))..((..(((..((((((((.((((........)))).)))))))).)))..)).))))............)))))))............((((.(((..(((((((.....................((..(((..((.(((((....))))))).)))..)).......................................................................(((......))).................((.(((((....)))))))...))))))).))))))))))).)))))))) {-128.47 d=93.75}\n",
      " frequency of mfe structure in ensemble 9.77384e-11; ensemble diversity 135.91\n"
     ]
    }
   ],
   "source": [
    "%%bash\n",
    "\n",
    "../scripts/fold_temp.sh ../data/hHSR.fa 35 45"
   ]
  },
  {
   "cell_type": "markdown",
   "metadata": {},
   "source": [
    "### The resulting `.txt` files are saved in the same directory as the starting `fasta` file"
   ]
  },
  {
   "cell_type": "code",
   "execution_count": 11,
   "metadata": {},
   "outputs": [
    {
     "name": "stdout",
     "output_type": "stream",
     "text": [
      "total 1.6M\r\n",
      "drwxrwxr-x 2 ilya ilya 4.0K Apr 18 13:26 \u001b[0m\u001b[01;34m.\u001b[0m/\r\n",
      "drwxrwxr-x 8 ilya ilya 4.0K Apr 18 12:55 \u001b[01;34m..\u001b[0m/\r\n",
      "-rw-rw-r-- 1 ilya ilya 112K Apr 18 13:26 hHSR_35.txt\r\n",
      "-rw-rw-r-- 1 ilya ilya 115K Apr 18 13:26 hHSR_36.txt\r\n",
      "-rw-rw-r-- 1 ilya ilya 118K Apr 18 13:26 hHSR_37.txt\r\n",
      "-rw-rw-r-- 1 ilya ilya 121K Apr 18 13:26 hHSR_38.txt\r\n",
      "-rw-rw-r-- 1 ilya ilya 123K Apr 18 13:26 hHSR_39.txt\r\n",
      "-rw-rw-r-- 1 ilya ilya 127K Apr 18 13:26 hHSR_40.txt\r\n",
      "-rw-rw-r-- 1 ilya ilya 132K Apr 18 13:26 hHSR_41.txt\r\n",
      "-rw-rw-r-- 1 ilya ilya 136K Apr 18 13:26 hHSR_42.txt\r\n",
      "-rw-rw-r-- 1 ilya ilya 140K Apr 18 13:26 hHSR_43.txt\r\n",
      "-rw-rw-r-- 1 ilya ilya 145K Apr 18 13:26 hHSR_44.txt\r\n",
      "-rw-rw-r-- 1 ilya ilya 150K Apr 18 13:26 hHSR_45.txt\r\n",
      "-rw-rw-r-- 1 ilya ilya  611 Apr 18 12:45 hHSR.fa\r\n",
      "-rw-rw-r-- 1 ilya ilya 7.1K Apr 18 13:13 ROSE1_37.txt\r\n",
      "-rw-rw-r-- 1 ilya ilya 7.8K Apr 18 13:13 ROSE1_38.txt\r\n",
      "-rw-rw-r-- 1 ilya ilya 8.1K Apr 18 13:13 ROSE1_39.txt\r\n",
      "-rw-rw-r-- 1 ilya ilya 8.2K Apr 18 13:13 ROSE1_40.txt\r\n",
      "-rw-rw-r-- 1 ilya ilya 8.6K Apr 18 13:13 ROSE1_41.txt\r\n",
      "-rw-rw-r-- 1 ilya ilya 8.8K Apr 18 13:13 ROSE1_42.txt\r\n",
      "-rw-rw-r-- 1 ilya ilya 9.3K Apr 18 13:13 ROSE1_43.txt\r\n",
      "-rw-rw-r-- 1 ilya ilya  19K Apr 18 12:58 ROSE1_dp.ps\r\n",
      "-rw-rw-r-- 1 ilya ilya  126 Apr 18 12:46 rose.fa\r\n"
     ]
    }
   ],
   "source": [
    "ls -lah ../data"
   ]
  },
  {
   "cell_type": "code",
   "execution_count": null,
   "metadata": {
    "collapsed": true
   },
   "outputs": [],
   "source": []
  }
 ],
 "metadata": {
  "kernelspec": {
   "display_name": "Python 3",
   "language": "python",
   "name": "python3"
  },
  "language_info": {
   "codemirror_mode": {
    "name": "ipython",
    "version": 3
   },
   "file_extension": ".py",
   "mimetype": "text/x-python",
   "name": "python",
   "nbconvert_exporter": "python",
   "pygments_lexer": "ipython3",
   "version": "3.5.2"
  },
  "widgets": {
   "state": {},
   "version": "1.1.1"
  }
 },
 "nbformat": 4,
 "nbformat_minor": 1
}
